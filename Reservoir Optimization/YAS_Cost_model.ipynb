{
 "cells": [
  {
   "cell_type": "code",
   "execution_count": 277,
   "metadata": {},
   "outputs": [
    {
     "name": "stdout",
     "output_type": "stream",
     "text": [
      "(1906.3488824062915, 9.719989339964704e-05)\n"
     ]
    }
   ],
   "source": [
    "import math\n",
    "\n",
    "def findDcurr(nd, nft, F):\n",
    "    Dcurr = nd * nft * F\n",
    "    \n",
    "def YASRec(Vprev, Qcurr, Dcurr, A, R, Rcurr, S, nd, nft, F):\n",
    "    vprev = Vprev / (A * R)\n",
    "    qcurr = Qcurr / (A * R)\n",
    "    #dcurr = findDcurr(nd, nft, F) / (A * R)\n",
    "    dcurr = nd * nft * F / (A * R)\n",
    "    s = S / (A * R)\n",
    "    ycurr = min(dcurr, vprev)\n",
    "    ocurr = max(0, vprev + Rcurr / R - s)\n",
    "    vcurr = vprev + qcurr - ycurr - ocurr\n",
    "    return (vcurr, ycurr, ocurr)\n",
    "\n",
    "#calculating the yearly water savings efficiency WSn for the year n\n",
    "#Water saving efficiency is a measure of how much mains water has been conserved in comparison to the overall demand \n",
    "def water_saving(Vprev, Qcurr, Dcurr, A, R, Rcurr, S, nd, nft, F) : \n",
    "    Yt = []\n",
    "    Dt = []\n",
    "    yt = 20000\n",
    "    Yn = Dn = 0\n",
    "    for t in range(365):\n",
    "        k = YASRec(yt, 60, 25, 69, 80, 40,64,83,96,57)\n",
    "        yt = k[1]\n",
    "        dt = nd * nft * F\n",
    "        Yt.append(yt)\n",
    "        Dt.append(dt)\n",
    "        Yn = Yn + yt\n",
    "        Dn = Dn + dt\n",
    "        WSn = Yn/Dn\n",
    "        s = S / (A * R)\n",
    "        d = Dn / (A * R*365)\n",
    "    print(WSn)\n",
    "\n",
    "#using regression on rainfall prediction over last few years gives us x1, x2, x3, x4\n",
    "#approximating WSn to WS for the subsequent years\n",
    "#this is the average water savings based on the previous years\n",
    "def water_save(x1, x2, x3, x4, s, d, f):\n",
    "    frac = x1*s/(x2+s)\n",
    "    WS = frac*pow(d,x3)*pow(f,x4)\n",
    "    print(WS)\n",
    "    return(WS)\n",
    "\n",
    "def Cost_Anal(a, b, k, S, D, r, N, Ci, Cw, Ce):\n",
    "    #WS = water_save(45.547, 3.052, -0.492, -0.264, 40 , 0.2, 0.5)\n",
    "    WS = 80\n",
    "    #capital cost\n",
    "    Cs = a + b*S #equipment cost\n",
    "    Cc = Cs+Ci # Ci-> installation cost\n",
    "    #operational cost\n",
    "    Cywm = Cw*(1-WS/100)*D*365  #Cw->unit cost of drinking water\n",
    "    Cye=Ce*WS*D*3.65    #Ce->cost of energy(pm3)\n",
    "    #maintenance cost\n",
    "    Cm = k*Cc\n",
    "    #total cost\n",
    "    frac = (pow(1+r, N)-1)/r*pow(1+r,N)\n",
    "    PV = (Cc + frac*(Cywm + Cye + Cm))\n",
    "    return(Cc, Cm, Cye, Cywm,PV)\n",
    "    \n",
    "def optimization(b, k, d, f, r, x1, x2, x3, x4, A, R, N, Ci, Cw, Ce, D):\n",
    "    cost = Cost_Anal(0, 82, 0.02, 3, 0.575, 0.03, 25, 12000, 4.17, 0.02)\n",
    "    Cc = cost[0]\n",
    "    Cm = cost[1]\n",
    "    Cye = cost[2]\n",
    "    Cywm = cost[3]\n",
    "    num = (pow(1+r, N)-1)*x1*x2*365*(Cw-Ce) \n",
    "    den1 = 100*b\n",
    "    den2 = den1*((pow(1+r,N))*(r+k)-k) \n",
    "    p1 = pow(d, 0.5*(1+x3)) \n",
    "    p2 = pow(f, 0.5*x4)\n",
    "    #optimal tank size \n",
    "    Sopt = A*R*math.sqrt(num/den2)*p1*p2-x2\n",
    "    #payback period of investment\n",
    "    T = Cc/(Cw*D*365*Cm*Cye*Cywm)\n",
    "    return(Sopt, T)\n",
    "if __name__ == '__main__': \n",
    "    opt = optimization(82, 0.02, 0.2,0.5, 0.03 ,45.547, 3.052, -0.492, -0.264,160, 0.9,25, 12000, 4.17, 0.02, 0.575)\n",
    "    print(opt)"
   ]
  },
  {
   "cell_type": "code",
   "execution_count": null,
   "metadata": {
    "collapsed": true
   },
   "outputs": [],
   "source": []
  },
  {
   "cell_type": "code",
   "execution_count": null,
   "metadata": {
    "collapsed": true
   },
   "outputs": [],
   "source": []
  }
 ],
 "metadata": {
  "kernelspec": {
   "display_name": "Python 3",
   "language": "python",
   "name": "python3"
  },
  "language_info": {
   "codemirror_mode": {
    "name": "ipython",
    "version": 3
   },
   "file_extension": ".py",
   "mimetype": "text/x-python",
   "name": "python",
   "nbconvert_exporter": "python",
   "pygments_lexer": "ipython3",
   "version": "3.6.3"
  }
 },
 "nbformat": 4,
 "nbformat_minor": 2
}
